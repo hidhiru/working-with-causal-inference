{
 "cells": [
  {
   "cell_type": "markdown",
   "metadata": {},
   "source": [
    "## Aim:\n",
    "* To find the impact of financial aid on college dropout rate\n",
    "\n",
    "## Variables:\n",
    "\n",
    "1. Dropput index : Higher the value lower the dropout.\n",
    "2. family_indx : Higher the value higher is the need to acquire financial aid\n",
    "3. w1 : Some exogenous factor that impacts dropout\n",
    "4. w1 : some other exogenous factor that impacts dropout\n",
    "\n",
    "## Idea:\n",
    "\n",
    "* To measure the impact of college dropout in students with respect to the provision of financial aid."
   ]
  },
  {
   "cell_type": "code",
   "execution_count": 5,
   "metadata": {},
   "outputs": [],
   "source": [
    "import pandas as pd\n",
    "import numpy as np\n",
    "import rdd as rdd # https://pypi.org/project/rdd"
   ]
  },
  {
   "cell_type": "markdown",
   "metadata": {},
   "source": [
    "PLEASE NOTE : THIS FUNCTIONS BELOW ARE A PART OF THE PYPI LIBRARY NAMED \"RDD\".WE HAVE EXPLICITLY DEFINED THE FUNCTION HERE \n",
    "DUE TO SOME ISSUE IN CALLING DIRECTLY FROM THE LIBRARY.\n",
    "THE TUTORIAL USES SAME TEMPLATE AS PROVIDED IN THE RDD LIBRARY.\n",
    "Courtsey : \n",
    "#### https://pypi.org/project/rdd"
   ]
  },
  {
   "cell_type": "code",
   "execution_count": 6,
   "metadata": {},
   "outputs": [
    {
     "name": "stderr",
     "output_type": "stream",
     "text": [
      "<>:22: SyntaxWarning: assertion is always true, perhaps remove parentheses?\n",
      "<>:23: SyntaxWarning: assertion is always true, perhaps remove parentheses?\n",
      "<>:24: SyntaxWarning: assertion is always true, perhaps remove parentheses?\n",
      "<>:22: SyntaxWarning: assertion is always true, perhaps remove parentheses?\n",
      "<>:23: SyntaxWarning: assertion is always true, perhaps remove parentheses?\n",
      "<>:24: SyntaxWarning: assertion is always true, perhaps remove parentheses?\n",
      "<>:22: SyntaxWarning: assertion is always true, perhaps remove parentheses?\n",
      "<>:23: SyntaxWarning: assertion is always true, perhaps remove parentheses?\n",
      "<>:24: SyntaxWarning: assertion is always true, perhaps remove parentheses?\n",
      "<ipython-input-6-a261ce6e7e8a>:22: SyntaxWarning: assertion is always true, perhaps remove parentheses?\n",
      "  assert(X.shape[0] == Y.shape[0], \"X and Y are not of the same length\")\n",
      "<ipython-input-6-a261ce6e7e8a>:23: SyntaxWarning: assertion is always true, perhaps remove parentheses?\n",
      "  assert(np.sum(pd.isnull(X)) == 0, \"NaNs are present in the running variable X\")\n",
      "<ipython-input-6-a261ce6e7e8a>:24: SyntaxWarning: assertion is always true, perhaps remove parentheses?\n",
      "  assert(np.sum(pd.isnull(Y)) == 0, \"NaNs are present in the running variable X\")\n"
     ]
    }
   ],
   "source": [
    "import statsmodels.formula.api as smf\n",
    "\n",
    "\n",
    "def optimal_bandwidth(Y, X, cut=0):\n",
    "    '''\n",
    "    DESCRIPTION:\n",
    "        For a given outcome Y and running variable X, computes the optimal bandwidth\n",
    "        h using a triangular kernel. For more information, see \n",
    "        \"OPTIMAL BANDWIDTH CHOICE FOR THE REGRESSION DISCONTINUITY ESTIMATOR\",\n",
    "        by Imbens and Kalyanaraman, at http://www.nber.org/papers/w14726.pdf\n",
    "\n",
    "    INPUTS:\n",
    "        Two equal length pandas Series\n",
    "            Y: the outcome variable\n",
    "            X: the running variable\n",
    "        cut: value for the threshold of the rdd (scalar) (default is 0)\n",
    "    \n",
    "    OUTPUTS:\n",
    "        Scalar optimal bandwidth value\n",
    "    '''\n",
    "\n",
    "    assert(X.shape[0] == Y.shape[0], \"X and Y are not of the same length\")\n",
    "    assert(np.sum(pd.isnull(X)) == 0, \"NaNs are present in the running variable X\")\n",
    "    assert(np.sum(pd.isnull(Y)) == 0, \"NaNs are present in the running variable X\")\n",
    "\n",
    "\n",
    "    # Normalize X\n",
    "    X = X - cut\n",
    "\n",
    "    # Step 1\n",
    "    h1 = 1.84 * X.std() * (X.shape[0]**(-.2))\n",
    "    Nh1neg = X[(X < 0) & (X > -h1)].shape[0]\n",
    "    Nh1pos =X[(X >= 0) & (X < h1)].shape[0]\n",
    "    Ybarh1neg = Y[(X < 0) & (X > -h1)].mean()\n",
    "    Ybarh1pos = Y[(X >= 0) & (X < h1)].mean()\n",
    "    fXc = (Nh1neg + Nh1pos) / (2 * X.shape[0] * h1)\n",
    "    sig2c = (((Y[(X < 0) & (X > -h1)]-Ybarh1neg)**2).sum() +((Y[(X >= 0) & (X < h1)]-Ybarh1pos)**2).sum()) / (Nh1neg + Nh1pos)\n",
    "    \n",
    "    # Step 2\n",
    "    medXneg = X[X<0].median()\n",
    "    medXpos = X[X>=0].median()\n",
    "    dat_temp = pd.DataFrame({'Y': Y,'X':X})\n",
    "    dat_temp = dat_temp.loc[(dat_temp['X'] >= medXneg) & (dat_temp['X'] <= medXpos)]\n",
    "    dat_temp['treat'] = 0\n",
    "    dat_temp.loc[dat_temp['X'] >= 0, 'treat'] = 1\n",
    "    dat_temp['X2'] = X**2\n",
    "    dat_temp['X3'] = X**3\n",
    "    eqn = 'Y ~ 1 + treat + X + X2 + X3'\n",
    "    results = smf.ols(eqn, data=dat_temp).fit()\n",
    "    m3 = 6*results.params.loc['X3']\n",
    "    h2pos = 3.56 * (X[X>=0].shape[0]**(-1/7.0)) * (sig2c/(fXc * np.max([m3**2, .01]))) ** (1/7.0)\n",
    "    h2neg = 3.56 * (X[X<0].shape[0]**(-1/7.0)) * (sig2c/(fXc * np.max([m3**2, .01]))) ** (1/7.0)\n",
    "    Yplus = Y[(X>=0) & (X<=h2pos)]\n",
    "    Xplus = X[(X>=0) & (X<=h2pos)]\n",
    "    dat_temp = pd.DataFrame({'Y': Yplus,'X':Xplus})\n",
    "    dat_temp['X2'] = X**2\n",
    "    eqn = 'Y ~ 1 + X + X2'\n",
    "    results = smf.ols(eqn, data=dat_temp).fit()\n",
    "    m2pos = 2*results.params.loc['X2']\n",
    "    Yneg = Y[(X<0) & (X>=-h2neg)]\n",
    "    Xneg = X[(X<0) & (X>=-h2neg)]\n",
    "    dat_temp = pd.DataFrame({'Y': Yneg,'X':Xneg})\n",
    "    dat_temp['X2'] = X**2\n",
    "    eqn = 'Y ~ 1 + X + X2'\n",
    "    results = smf.ols(eqn, data=dat_temp).fit()\n",
    "    m2neg = 2*results.params.loc['X2']\n",
    "    \n",
    "    # Step 3\n",
    "    rpos = 720*sig2c / (X[(X>=0) & (X<=h2pos)].shape[0] * h2pos**4)\n",
    "    rneg = 720*sig2c / (X[(X<0) & (X>=-h2neg)].shape[0] * h2neg**4)\n",
    "    CK = 3.4375\n",
    "    hopt = CK * (2*sig2c/(fXc * ((m2pos - m2neg)**2 + (rpos+rneg))))**.2 * Y.shape[0]**(-.2)\n",
    "    \n",
    "    return hopt\n",
    "\n",
    "\n",
    "def truncated_data(data, xname, bandwidth=None, yname=None, cut=0):\n",
    "    '''\n",
    "\n",
    "    Drop observations from dataset that are outside \n",
    "        a given (or optimal) bandwidth\n",
    "\n",
    "    INPUTS:\n",
    "        data: data with the X and Y values (pandas DataFrame)\n",
    "        xname: Name of your running variable (string)\n",
    "        bandwidth: Bandwidth (scalar) (if None given, the optimal bandwidth is computed)\n",
    "        yname: The name of your outcome variable (string) (only needed if no bandwidth is given)\n",
    "        cut: The value of your threshold (scalar) (default is 0)\n",
    "\n",
    "    OUTPUTS:\n",
    "        pandas DataFrame with observations outside of the bandwidth dropped\n",
    "    \n",
    "    '''\n",
    "    if bandwidth==None:\n",
    "        if yname==None:\n",
    "            raise NameError(\"You must supply either a bandwidth or the name of your outcome variable.\")\n",
    "        else:\n",
    "            bandwidth = optimal_bandwidth(data[yname], data[xname], cut=cut)\n",
    "    data_new = data.loc[np.abs(data[xname]-cut)<=bandwidth, ]\n",
    "    return data_new\n",
    "\n",
    "\n",
    "def rdd(input_data, xname, yname=None, cut=0, equation=None, controls=None, noconst=False, weights=1, verbose=True):\n",
    "    '''\n",
    "    This function implements a linear regression (ordinary or weighted least squares can be used) for \n",
    "        the estimation of regressing the outcome variable on the running variable.  A \"TREATED\" variable\n",
    "        is created, the coefficient on which is the causal effect of being to the right of the threshold.\n",
    "\n",
    "        The user may specify a list of controls to be added linearly, or supply their own equation.  \n",
    "\n",
    "    INPUT:\n",
    "        input_data: dataset with outcome and running variables (and potentially controls) (pandas DataFrame)\n",
    "        xname: name of running variable (string)\n",
    "        yname: name of outcome variable (string) (default is None - not needed if you include your own equation)\n",
    "        cut: location of threshold in xname (scalar) (default is 0)\n",
    "        equation: Estimation equation as a string (see Statsmodels formula syntax for more info)\n",
    "        controls: List of controls to include in the estimation (list of strings) (not needed if you include your own equation)\n",
    "        noconst: If True, model does not estimate an intercept (bool) (default is false)\n",
    "        weights: Weights for weighted least squares (numpy array) (default is equal weights, ie OLS)\n",
    "\n",
    "    OUTPUT:\n",
    "        Statsmodels object\n",
    "\n",
    "    '''\n",
    "    if yname==None and equation==None:\n",
    "        raise NameError(\"You must supply either a outcome variable name or an equation to estimate.\")\n",
    "    if 'TREATED' in input_data.columns:\n",
    "        raise NameError(\"TREATED is a reserved column name.  Please change the name.\")\n",
    "    data = input_data.copy() # To avoid SettingWithCopy warnings\n",
    "    data['TREATED'] = np.where(data[xname] >= cut, 1, 0)\n",
    "    if equation==None:\n",
    "        equation = yname + ' ~ TREATED + ' + xname\n",
    "        if controls != None:\n",
    "            equation_controls = ' + '.join(controls)\n",
    "            equation += ' + ' + equation_controls\n",
    "    if noconst==True:\n",
    "        equation += ' -1'\n",
    "    if verbose==True:\n",
    "        print('Estimation Equation:\\t', equation)\n",
    "    rdd_model = smf.wls(equation, data=data, weights=weights)\n",
    "    return rdd_model\n",
    "\n",
    "\n",
    "def bin_data(data, yname, xname, bins=50, agg_fn=np.mean):\n",
    "    '''\n",
    "    When datasets are so large that traditional RDD scatter plots are difficult to read, \n",
    "        this will group observations by their X values into a set number of bins and compute\n",
    "        the mean outcome value in that bin.  \n",
    "\n",
    "    INPUT:\n",
    "        data: dataset (pandas DataFrame)\n",
    "        yname: Name of outcome variable (string)\n",
    "        xname: Name of running variable (string)\n",
    "        bins: Desired number of bins to group data by (integer) (default is 50)\n",
    "\n",
    "    OUTPUT:\n",
    "        A pandas DataFrame that has a row for each bin with columns:\n",
    "            yname: The average value of the outcome variable in that bin\n",
    "            xname: the midpoint value of the running variable in that bin\n",
    "            n_obs: The number of observations in this bin\n",
    "            \n",
    "    '''\n",
    "    hist, edges = np.histogram(data[xname], bins=bins)\n",
    "    bin_midpoint = np.zeros(edges.shape[0]-1)\n",
    "    binned_df = pd.DataFrame(np.zeros((edges.shape[0]-1, 1)))\n",
    "    for i in range(edges.shape[0]-1):\n",
    "        bin_midpoint[i] = (edges[i] + edges[i+1]) / 2\n",
    "        if i < edges.shape[0]-2:\n",
    "            dat_temp = data.loc[(data[xname] >= edges[i]) & (\n",
    "                data[xname] < edges[i+1]), :]\n",
    "            binned_df.loc[binned_df.index[i], yname] = agg_fn(dat_temp[yname])\n",
    "            binned_df.loc[binned_df.index[i], xname] = bin_midpoint[i]\n",
    "            binned_df.loc[binned_df.index[i], 'n_obs'] = dat_temp.shape[0]\n",
    "        else:\n",
    "            dat_temp = data.loc[(data[xname] >= edges[i]) & (\n",
    "                data[xname] <= edges[i+1]), :]\n",
    "            binned_df.loc[binned_df.index[i], yname] = agg_fn(dat_temp[yname])\n",
    "            binned_df.loc[binned_df.index[i], xname] = bin_midpoint[i]\n",
    "            binned_df.loc[binned_df.index[i], 'n_obs'] = dat_temp.shape[0]\n",
    "    return binned_df"
   ]
  },
  {
   "cell_type": "code",
   "execution_count": 7,
   "metadata": {},
   "outputs": [],
   "source": [
    "import pandas as pd\n",
    "import numpy as np\n",
    "import matplotlib.pyplot as plt"
   ]
  },
  {
   "cell_type": "code",
   "execution_count": 40,
   "metadata": {},
   "outputs": [],
   "source": [
    "np.random.seed(66)"
   ]
  },
  {
   "cell_type": "code",
   "execution_count": 41,
   "metadata": {},
   "outputs": [],
   "source": [
    "# N = 10000\n",
    "# x = np.random.normal(1, 1, N)\n",
    "# epsilon = np.random.normal(0, 1, N)\n",
    "# threshold = 1\n",
    "# treatment = np.where(x >= threshold, 1, 0)\n",
    "# x1 = np.random.normal(0, 1, N)\n",
    "# x2 = np.random.normal(0, 4, N)\n",
    "# y = .5 * treatment + 2 * x - .2 * x1 + 1 + epsilon\n",
    "\n",
    "# df = pd.DataFrame({'dropout_indx':y, 'family_indx': x, 'x1':x1, 'x2':x2})\n",
    "# #data['treatment'] = treatment\n",
    "# df.head()"
   ]
  },
  {
   "cell_type": "code",
   "execution_count": 50,
   "metadata": {},
   "outputs": [
    {
     "data": {
      "text/html": [
       "<div>\n",
       "<style scoped>\n",
       "    .dataframe tbody tr th:only-of-type {\n",
       "        vertical-align: middle;\n",
       "    }\n",
       "\n",
       "    .dataframe tbody tr th {\n",
       "        vertical-align: top;\n",
       "    }\n",
       "\n",
       "    .dataframe thead th {\n",
       "        text-align: right;\n",
       "    }\n",
       "</style>\n",
       "<table border=\"1\" class=\"dataframe\">\n",
       "  <thead>\n",
       "    <tr style=\"text-align: right;\">\n",
       "      <th></th>\n",
       "      <th>dropout_indx</th>\n",
       "      <th>family_indx</th>\n",
       "      <th>x1</th>\n",
       "      <th>x2</th>\n",
       "    </tr>\n",
       "  </thead>\n",
       "  <tbody>\n",
       "    <tr>\n",
       "      <th>0</th>\n",
       "      <td>1.734817</td>\n",
       "      <td>5.691499</td>\n",
       "      <td>5.569726</td>\n",
       "      <td>-55.469244</td>\n",
       "    </tr>\n",
       "    <tr>\n",
       "      <th>1</th>\n",
       "      <td>27.801635</td>\n",
       "      <td>19.038766</td>\n",
       "      <td>19.992716</td>\n",
       "      <td>45.889090</td>\n",
       "    </tr>\n",
       "    <tr>\n",
       "      <th>2</th>\n",
       "      <td>35.335733</td>\n",
       "      <td>10.642042</td>\n",
       "      <td>2.828464</td>\n",
       "      <td>-23.181734</td>\n",
       "    </tr>\n",
       "    <tr>\n",
       "      <th>3</th>\n",
       "      <td>51.182662</td>\n",
       "      <td>21.371887</td>\n",
       "      <td>-9.110498</td>\n",
       "      <td>56.806014</td>\n",
       "    </tr>\n",
       "    <tr>\n",
       "      <th>4</th>\n",
       "      <td>29.621661</td>\n",
       "      <td>15.496821</td>\n",
       "      <td>-1.978229</td>\n",
       "      <td>19.030710</td>\n",
       "    </tr>\n",
       "  </tbody>\n",
       "</table>\n",
       "</div>"
      ],
      "text/plain": [
       "   dropout_indx  family_indx         x1         x2\n",
       "0      1.734817     5.691499   5.569726 -55.469244\n",
       "1     27.801635    19.038766  19.992716  45.889090\n",
       "2     35.335733    10.642042   2.828464 -23.181734\n",
       "3     51.182662    21.371887  -9.110498  56.806014\n",
       "4     29.621661    15.496821  -1.978229  19.030710"
      ]
     },
     "execution_count": 50,
     "metadata": {},
     "output_type": "execute_result"
    }
   ],
   "source": [
    "N = 10000\n",
    "x = np.random.normal(10, 10, N)\n",
    "epsilon = np.random.normal(0, 10, N)\n",
    "threshold = 10\n",
    "treatment = np.where(x >= threshold, 10, 0)\n",
    "x1 = np.random.normal(0, 10, N)\n",
    "x2 = np.random.normal(0, 40, N)\n",
    "y = .25 * treatment + 2.2 * x - .25 * x1 + 1 + epsilon\n",
    "\n",
    "df = pd.DataFrame({'dropout_indx':y, 'family_indx': x, 'x1':x1, 'x2':x2})\n",
    "#data['treatment'] = treatment\n",
    "df.head()"
   ]
  },
  {
   "cell_type": "markdown",
   "metadata": {},
   "source": [
    "#### We see a strong correlation between family index and how drop out is being indexed. \n",
    "#### This tells us that the way financial aid has been applied to students based on certain criteria of family wealth.\n",
    "#### This further begs the following questions:\n",
    "* are students similar or different in observed or unobserved ways based on certain criteria of a certain variable.\n",
    "* is the variable \"family_indx\" solely responsible for giving financial aid, in this case the treatment variable?"
   ]
  },
  {
   "cell_type": "code",
   "execution_count": 51,
   "metadata": {},
   "outputs": [
    {
     "name": "stdout",
     "output_type": "stream",
     "text": [
      "we also see that the running variable and the dropout_indx has a very strong correlation\n"
     ]
    },
    {
     "data": {
      "text/plain": [
       "0.9125539580165342"
      ]
     },
     "execution_count": 51,
     "metadata": {},
     "output_type": "execute_result"
    }
   ],
   "source": [
    "print(\"we also see that the running variable and the dropout_indx has a very strong correlation\")\n",
    "df['dropout_indx'].corr(df['family_indx'])"
   ]
  },
  {
   "cell_type": "markdown",
   "metadata": {},
   "source": [
    "## Finding the right subset of the data. \n",
    "\n",
    "##### *The right boundary around the threshold*\n",
    "\n",
    "*OPTIMAL BANDWIDTH CHOICE FOR THE REGRESSION DISCONTINUITY ESTIMATOR by Guido Imbens Karthik Kalyanaraman* is implemented in the rdd library\n",
    "\n",
    "This is important for us to decide the data we want to consider for the exercise"
   ]
  },
  {
   "cell_type": "code",
   "execution_count": 52,
   "metadata": {},
   "outputs": [
    {
     "name": "stdout",
     "output_type": "stream",
     "text": [
      "Optimal bandwidth around the threshold: 5.543292668387107\n"
     ]
    }
   ],
   "source": [
    "optimized_bandwitdh = optimal_bandwidth(df['dropout_indx'], df['family_indx'], cut=threshold)\n",
    "print(\"Optimal bandwidth around the threshold:\", optimized_bandwitdh)"
   ]
  },
  {
   "cell_type": "markdown",
   "metadata": {},
   "source": [
    "we will create a subset of data that holds the threshold and the bandwitdh defined above. \n",
    "\n",
    "The library \"rdd\" has a function that does the same for us and we will go on to do the same."
   ]
  },
  {
   "cell_type": "code",
   "execution_count": 53,
   "metadata": {},
   "outputs": [],
   "source": [
    "df_rdd = truncated_data(df, 'family_indx', optimized_bandwitdh, cut=threshold)"
   ]
  },
  {
   "cell_type": "markdown",
   "metadata": {},
   "source": [
    "#### How do we measure and see discontinuity ?"
   ]
  },
  {
   "cell_type": "markdown",
   "metadata": {},
   "source": [
    "We know here, that discontinuity is brought into the data because of a certain variable that can impact the treatment. The variable we are talking about is called the \"running variable\". In our example, we see that the variable \"family_indx\", or in this case the variable that defines family wealth, is the running variable."
   ]
  },
  {
   "cell_type": "markdown",
   "metadata": {},
   "source": [
    "It always helps to bin the dat for better visual treat"
   ]
  },
  {
   "cell_type": "code",
   "execution_count": 54,
   "metadata": {},
   "outputs": [
    {
     "data": {
      "image/png": "[encoded data removed]",
      "text/plain": [
       "<Figure size 864x576 with 1 Axes>"
      ]
     },
     "metadata": {
      "needs_background": "light"
     },
     "output_type": "display_data"
    }
   ],
   "source": [
    "data_binned = bin_data(df_rdd, 'dropout_indx', 'family_indx', 100)\n",
    "plt.figure(figsize=(12, 8))\n",
    "plt.scatter(data_binned['family_indx'], data_binned['dropout_indx'],\n",
    "    s = data_binned['n_obs'], facecolors='none', edgecolors='g')\n",
    "plt.axvline(x=threshold, color='black',linestyle = 'dashdot')\n",
    "plt.xlabel('family_indx')\n",
    "plt.ylabel('dropout_indx')\n",
    "plt.show()\n",
    "plt.close()"
   ]
  },
  {
   "cell_type": "markdown",
   "metadata": {},
   "source": [
    "\n",
    "#### Regression to calculate the Lift\n",
    "We run an ols (it's a wls with weight as 1), and see how the treated variable show as estimates. We do see the treated variable to have an estimate much closer to the actual lift."
   ]
  },
  {
   "cell_type": "markdown",
   "metadata": {},
   "source": [
    "#### The Regression below shows the impact of the treated to be somewhat around 2.59 in the whole data. \n",
    "#### The data that is not restricted"
   ]
  },
  {
   "cell_type": "code",
   "execution_count": 56,
   "metadata": {},
   "outputs": [
    {
     "name": "stdout",
     "output_type": "stream",
     "text": [
      "Estimation Equation:\t dropout_indx ~ TREATED + family_indx\n",
      "                            WLS Regression Results                            \n",
      "==============================================================================\n",
      "Dep. Variable:           dropout_indx   R-squared:                       0.834\n",
      "Model:                            WLS   Adj. R-squared:                  0.834\n",
      "Method:                 Least Squares   F-statistic:                 2.506e+04\n",
      "Date:                Thu, 29 Dec 2022   Prob (F-statistic):               0.00\n",
      "Time:                        17:33:48   Log-Likelihood:                -37450.\n",
      "No. Observations:               10000   AIC:                         7.491e+04\n",
      "Df Residuals:                    9997   BIC:                         7.493e+04\n",
      "Df Model:                           2                                         \n",
      "Covariance Type:            nonrobust                                         \n",
      "===============================================================================\n",
      "                  coef    std err          t      P>|t|      [0.025      0.975]\n",
      "-------------------------------------------------------------------------------\n",
      "Intercept       1.0974      0.149      7.370      0.000       0.806       1.389\n",
      "TREATED         2.5914      0.341      7.609      0.000       1.924       3.259\n",
      "family_indx     2.1899      0.017    128.472      0.000       2.157       2.223\n",
      "==============================================================================\n",
      "Omnibus:                        0.458   Durbin-Watson:                   1.995\n",
      "Prob(Omnibus):                  0.795   Jarque-Bera (JB):                0.489\n",
      "Skew:                           0.010   Prob(JB):                        0.783\n",
      "Kurtosis:                       2.973   Cond. No.                         47.5\n",
      "==============================================================================\n",
      "\n",
      "Warnings:\n",
      "[1] Standard Errors assume that the covariance matrix of the errors is correctly specified.\n"
     ]
    }
   ],
   "source": [
    "model = rdd(df, 'family_indx', 'dropout_indx',cut = threshold)\n",
    "print(model.fit().summary())"
   ]
  },
  {
   "cell_type": "markdown",
   "metadata": {},
   "source": [
    "### Once we add the control variables and use the restricted data around the threshold with the optimal bandwitdh,we see relatively a more pronounced impact of the treatment (2.93). There could be situation where the impact could be much more pronounced than what we see here."
   ]
  },
  {
   "cell_type": "code",
   "execution_count": 57,
   "metadata": {},
   "outputs": [
    {
     "name": "stdout",
     "output_type": "stream",
     "text": [
      "Estimation Equation:\t dropout_indx ~ TREATED + family_indx + x1 + x2\n",
      "                            WLS Regression Results                            \n",
      "==============================================================================\n",
      "Dep. Variable:           dropout_indx   R-squared:                       0.415\n",
      "Model:                            WLS   Adj. R-squared:                  0.414\n",
      "Method:                 Least Squares   F-statistic:                     743.7\n",
      "Date:                Thu, 29 Dec 2022   Prob (F-statistic):               0.00\n",
      "Time:                        17:33:51   Log-Likelihood:                -15630.\n",
      "No. Observations:                4209   AIC:                         3.127e+04\n",
      "Df Residuals:                    4204   BIC:                         3.130e+04\n",
      "Df Model:                           4                                         \n",
      "Covariance Type:                  hc1                                         \n",
      "===============================================================================\n",
      "                  coef    std err          z      P>|z|      [0.025      0.975]\n",
      "-------------------------------------------------------------------------------\n",
      "Intercept       1.5691      0.740      2.121      0.034       0.119       3.019\n",
      "TREATED         2.9354      0.616      4.766      0.000       1.728       4.143\n",
      "family_indx     2.1310      0.097     21.870      0.000       1.940       2.322\n",
      "x1             -0.2574      0.015    -16.648      0.000      -0.288      -0.227\n",
      "x2              0.0025      0.004      0.667      0.505      -0.005       0.010\n",
      "==============================================================================\n",
      "Omnibus:                        2.434   Durbin-Watson:                   1.989\n",
      "Prob(Omnibus):                  0.296   Jarque-Bera (JB):                2.321\n",
      "Skew:                          -0.011   Prob(JB):                        0.313\n",
      "Kurtosis:                       2.887   Cond. No.                         232.\n",
      "==============================================================================\n",
      "\n",
      "Warnings:\n",
      "[1] Standard Errors are heteroscedasticity robust (HC1)\n"
     ]
    }
   ],
   "source": [
    "model = rdd(df_rdd, 'family_indx', 'dropout_indx', cut=threshold, controls=['x1', 'x2'])\n",
    "print(model.fit(cov_type='hc1').summary())"
   ]
  },
  {
   "cell_type": "code",
   "execution_count": 62,
   "metadata": {},
   "outputs": [
    {
     "name": "stdout",
     "output_type": "stream",
     "text": [
      "Then we try out an interaction term\n",
      "Estimation Equation:\t dropout_indx ~ TREATED + family_indx + x1*x2\n",
      "                            WLS Regression Results                            \n",
      "==============================================================================\n",
      "Dep. Variable:           dropout_indx   R-squared:                       0.415\n",
      "Model:                            WLS   Adj. R-squared:                  0.414\n",
      "Method:                 Least Squares   F-statistic:                     596.3\n",
      "Date:                Thu, 29 Dec 2022   Prob (F-statistic):               0.00\n",
      "Time:                        17:39:04   Log-Likelihood:                -15629.\n",
      "No. Observations:                4209   AIC:                         3.127e+04\n",
      "Df Residuals:                    4203   BIC:                         3.131e+04\n",
      "Df Model:                           5                                         \n",
      "Covariance Type:            nonrobust                                         \n",
      "===============================================================================\n",
      "                  coef    std err          t      P>|t|      [0.025      0.975]\n",
      "-------------------------------------------------------------------------------\n",
      "Intercept       1.5893      0.741      2.144      0.032       0.136       3.043\n",
      "TREATED         2.9527      0.607      4.866      0.000       1.763       4.142\n",
      "family_indx     2.1282      0.097     21.999      0.000       1.938       2.318\n",
      "x1             -0.2572      0.016    -16.537      0.000      -0.288      -0.227\n",
      "x2              0.0024      0.004      0.624      0.533      -0.005       0.010\n",
      "x1:x2           0.0005      0.000      1.208      0.227      -0.000       0.001\n",
      "==============================================================================\n",
      "Omnibus:                        2.383   Durbin-Watson:                   1.989\n",
      "Prob(Omnibus):                  0.304   Jarque-Bera (JB):                2.277\n",
      "Skew:                          -0.011   Prob(JB):                        0.320\n",
      "Kurtosis:                       2.888   Cond. No.                     2.32e+03\n",
      "==============================================================================\n",
      "\n",
      "Warnings:\n",
      "[1] Standard Errors assume that the covariance matrix of the errors is correctly specified.\n",
      "[2] The condition number is large, 2.32e+03. This might indicate that there are\n",
      "strong multicollinearity or other numerical problems.\n"
     ]
    }
   ],
   "source": [
    "print(\"Then we try out an interaction term\")\n",
    "model = rdd(df_rdd, 'family_indx', cut=threshold, equation='dropout_indx ~ TREATED + family_indx + x1*x2')\n",
    "print(model.fit().summary())"
   ]
  },
  {
   "cell_type": "markdown",
   "metadata": {},
   "source": [
    "#### Validations can be done in the following ways:\n",
    "* use multiple alternate threshold instead of a real threshold and see if we see any significant impaact of the treatment. If we see, then that could potentially be a red flag.\n",
    "\n",
    "However, there could be other unobserved running variable impact to such a validation \n",
    "and it should be used as an indication."
   ]
  },
  {
   "cell_type": "code",
   "execution_count": null,
   "metadata": {},
   "outputs": [],
   "source": []
  }
 ],
 "metadata": {
  "kernelspec": {
   "display_name": "Python 3",
   "language": "python",
   "name": "python3"
  },
  "language_info": {
   "codemirror_mode": {
    "name": "ipython",
    "version": 3
   },
   "file_extension": ".py",
   "mimetype": "text/x-python",
   "name": "python",
   "nbconvert_exporter": "python",
   "pygments_lexer": "ipython3",
   "version": "3.7.6"
  }
 },
 "nbformat": 4,
 "nbformat_minor": 4
}
